{
 "cells": [
  {
   "cell_type": "markdown",
   "metadata": {},
   "source": [
    "## Generate Acronyms"
   ]
  },
  {
   "cell_type": "markdown",
   "metadata": {},
   "source": [
    "Purpose of the code is to generate the acronyms for any given string."
   ]
  },
  {
   "cell_type": "code",
   "execution_count": 1,
   "metadata": {},
   "outputs": [
    {
     "name": "stdout",
     "output_type": "stream",
     "text": [
      "Hello World\n"
     ]
    }
   ],
   "source": [
    "print('Hello World')"
   ]
  },
  {
   "cell_type": "code",
   "execution_count": 11,
   "metadata": {},
   "outputs": [
    {
     "name": "stdout",
     "output_type": "stream",
     "text": [
      "Enter your string: Kolitha hasitha wanniarachchi\n",
      "The Acronyms of the \"Kolitha hasitha wanniarachchi\" is  K H W \n"
     ]
    }
   ],
   "source": [
    "# get the string that needs to generate the acronyms\n",
    "String = str(input(\"Enter your string: \"))\n",
    "\n",
    "# split the string\n",
    "Split = String.split()\n",
    "\n",
    "# initiate the acronyms\n",
    "Acronyms = \" \"\n",
    "\n",
    "# loop through the split and get the first letter in upper case\n",
    "for i in Split:\n",
    "    Acronyms=Acronyms+str(i[0]).upper()+' '\n",
    "    \n",
    "# print the Acronyms\n",
    "print('The Acronyms of the \"{}\" is {}'.format(String,Acronyms))"
   ]
  },
  {
   "cell_type": "markdown",
   "metadata": {},
   "source": [
    "### Thank You"
   ]
  },
  {
   "cell_type": "code",
   "execution_count": null,
   "metadata": {},
   "outputs": [],
   "source": []
  }
 ],
 "metadata": {
  "kernelspec": {
   "display_name": "Python 3",
   "language": "python",
   "name": "python3"
  },
  "language_info": {
   "codemirror_mode": {
    "name": "ipython",
    "version": 3
   },
   "file_extension": ".py",
   "mimetype": "text/x-python",
   "name": "python",
   "nbconvert_exporter": "python",
   "pygments_lexer": "ipython3",
   "version": "3.8.5"
  }
 },
 "nbformat": 4,
 "nbformat_minor": 4
}
